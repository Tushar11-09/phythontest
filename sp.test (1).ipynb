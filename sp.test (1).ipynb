{
 "cells": [
  {
   "cell_type": "code",
   "execution_count": 1,
   "id": "9fc890f3-e800-40b1-84f7-404718a77fb3",
   "metadata": {},
   "outputs": [],
   "source": [
    "import pandas as pd\n",
    "import numpy as np "
   ]
  },
  {
   "cell_type": "markdown",
   "id": "94275e21-504b-4af1-81e3-0eb1dbf9c1d1",
   "metadata": {},
   "source": [
    "### Q2\n",
    "corelation define the relationship between two variabes\n",
    "covarience define if one variable change then second varible aslo channge\n",
    "it gives the direction but not scale. "
   ]
  },
  {
   "cell_type": "code",
   "execution_count": 5,
   "id": "12755a55-6b1b-4326-ab87-594afed3120f",
   "metadata": {},
   "outputs": [
    {
     "name": "stdout",
     "output_type": "stream",
     "text": [
      "{'hello': 5, 'everyone': 8, 'all': 3, 'the': 3, 'best': 4}\n"
     ]
    }
   ],
   "source": [
    "#Q1 \n",
    "st = [\"hello\",\"everyone\",\"all\",\"the\",\"best\"]\n",
    "wl= {word:len(word)for word in st}\n",
    "print(wl)"
   ]
  },
  {
   "cell_type": "markdown",
   "id": "d8ddd351-d497-4182-a55b-97ffbe8c188e",
   "metadata": {},
   "source": [
    "#Q3.\n",
    "When independent random variables are arrange in normal distribution, \n",
    "even if the original variables are not normally distributed."
   ]
  },
  {
   "cell_type": "markdown",
   "id": "b953c923-fc02-4404-aaeb-d00ba3cff2e0",
   "metadata": {},
   "source": [
    "#6\n",
    "type one error is the false negative \n",
    "you failed to accept null hypothesis when it is true\n",
    "(null hpothesis got rejected in this)"
   ]
  },
  {
   "cell_type": "markdown",
   "id": "d3694dfa-9592-4280-8bed-1f58ce85f976",
   "metadata": {},
   "source": [
    "#8\n",
    "to the shapiro-wilk test we can use to check  the data is normally distributed or not "
   ]
  },
  {
   "cell_type": "markdown",
   "id": "f0648297-4e7b-4d17-87c2-71f07666253f",
   "metadata": {},
   "source": [
    "#9\n",
    "there shoud be linearity in data \n",
    "there shoud be normality in data \n",
    "there is no multicolineraty\n",
    "homoscadicity"
   ]
  },
  {
   "cell_type": "markdown",
   "id": "fff9cbd6-1ec7-4357-959a-0ab45f7319c2",
   "metadata": {},
   "source": [
    "#7\n",
    "in lower and upper case we used IQR technique to find outliers in data sets"
   ]
  },
  {
   "cell_type": "markdown",
   "id": "5a558f66-045b-4e78-8cd6-69c505f4bca7",
   "metadata": {},
   "source": [
    "#10\n",
    "entropy is check randomness in data sets\n",
    "formula:\n",
    "entropy=p(log1)+p(log2)"
   ]
  },
  {
   "cell_type": "markdown",
   "id": "a4b8c834-554d-4324-bb22-786676131c55",
   "metadata": {},
   "source": [
    "#4\n",
    "set is form of array \n",
    "dictionary very important function used in python\n",
    "which is used for compreshansion to count the length of each word in a sentence"
   ]
  },
  {
   "cell_type": "code",
   "execution_count": null,
   "id": "cf96d065-b2aa-4a2a-92bf-97bc3cc13015",
   "metadata": {},
   "outputs": [],
   "source": []
  }
 ],
 "metadata": {
  "kernelspec": {
   "display_name": "Python [conda env:ana]",
   "language": "python",
   "name": "conda-env-ana-py"
  },
  "language_info": {
   "codemirror_mode": {
    "name": "ipython",
    "version": 3
   },
   "file_extension": ".py",
   "mimetype": "text/x-python",
   "name": "python",
   "nbconvert_exporter": "python",
   "pygments_lexer": "ipython3",
   "version": "3.12.7"
  }
 },
 "nbformat": 4,
 "nbformat_minor": 5
}
